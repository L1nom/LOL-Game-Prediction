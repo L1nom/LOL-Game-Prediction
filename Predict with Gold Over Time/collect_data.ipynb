{
 "cells": [
  {
   "cell_type": "code",
   "execution_count": null,
   "id": "fea37c82-e23c-4f2c-b818-01d251fb29e1",
   "metadata": {},
   "outputs": [],
   "source": [
    "from riotwatcher import LolWatcher, ApiError\n",
    "import pandas as pd\n",
    "import numpy as np \n",
    "import sqlite3\n",
    "import matplotlib.pyplot as plt\n",
    "from time import sleep\n",
    "from apikey import API_KEY"
   ]
  },
  {
   "cell_type": "code",
   "execution_count": null,
   "id": "0f437b2f-10f6-4fbf-84a4-7c3962b08485",
   "metadata": {},
   "outputs": [],
   "source": [
    "watcher = LolWatcher(API_KEY)\n",
    "region = 'na1'"
   ]
  },
  {
   "cell_type": "code",
   "execution_count": null,
   "id": "6613c67a-b7a8-4f17-b95e-03822902269e",
   "metadata": {},
   "outputs": [],
   "source": [
    "connection = sqlite3.connect(\"matches.db\")\n",
    "create_match_table = \"\"\"CREATE TABLE IF NOT EXISTS match (\n",
    "id INTEGER PRIMARY KEY,\n",
    "game_id INTEGER,\n",
    "team_1 TEXT,\n",
    "team_2 TEXT,\n",
    "gold_diff TEXT,\n",
    "winner TEXT\n",
    ")\"\"\"\n",
    "cur = connection.cursor()\n",
    "cur.execute(create_match_table)\n",
    "insert_match = \"INSERT OR IGNORE INTO match (game_id, team_1, team_2, gold_diff, winner) VALUES (?, ?, ?, ?, ?)\""
   ]
  },
  {
   "cell_type": "code",
   "execution_count": null,
   "id": "4a290d7d-e669-4834-9645-c9102d25b239",
   "metadata": {},
   "outputs": [],
   "source": [
    "me = watcher.summoner.by_name(region, \"Linom\")\n",
    "me"
   ]
  },
  {
   "cell_type": "code",
   "execution_count": null,
   "id": "eb83479c-ac03-401a-8f10-86e8d24ccbdd",
   "metadata": {},
   "outputs": [],
   "source": [
    "challenger_dto = watcher.league.challenger_by_queue(region, \"RANKED_SOLO_5x5\")\n",
    "challenger_players = challenger_dto[\"entries\"]"
   ]
  },
  {
   "cell_type": "code",
   "execution_count": null,
   "id": "5465e760-6baf-4a91-80b1-af9e02b55384",
   "metadata": {},
   "outputs": [],
   "source": [
    "challenger_names = []\n",
    "for summoner in challenger_players:\n",
    "    challenger_names.append(summoner[\"summonerName\"])\n",
    "challenger_names[0:5]\n",
    "    "
   ]
  },
  {
   "cell_type": "code",
   "execution_count": null,
   "id": "4f8e54f8-33bb-4ca8-b553-0c3754145c99",
   "metadata": {},
   "outputs": [],
   "source": [
    "# User summoner name to get summoner info\n",
    "def get_summoner_uid(name):\n",
    "    try:\n",
    "        summoner = watcher.summoner.by_name(region, name)\n",
    "    except ApiError:\n",
    "        return \"No summoner found\"\n",
    "    return summoner[\"puuid\"]"
   ]
  },
  {
   "cell_type": "code",
   "execution_count": null,
   "id": "b95ffb6f-2277-469a-8abd-36cd33d974d6",
   "metadata": {},
   "outputs": [],
   "source": [
    "# get gold info for last 10 games\n",
    "def get_gold_per_match(player_uid):\n",
    "    match_list = watcher.match.matchlist_by_puuid('americas', player_uid, type=\"ranked\")\n",
    "    for i in range(len(match_list)):\n",
    "        game_timeline = watcher.match.timeline_by_match('americas', match_list[i])\n",
    "        game_details = watcher.match.by_id('americas', match_list[i])\n",
    "        if game_details[\"info\"][\"participants\"][0][\"win\"] == False:\n",
    "            winner = \"Team 1\"\n",
    "        else:\n",
    "            winner = \"Team 2\"\n",
    "        # team_1_win = game_details[\"info\"][\"participants\"][0][\"win\"]\n",
    "        \n",
    "        gold = {}\n",
    "        for k in range(len(game_timeline['info']['frames'])):\n",
    "            gold['{}'.format(k)] = {}\n",
    "        for value in gold.values():\n",
    "            for l in range(1, 11):\n",
    "                value['{}'.format(l)] = 0\n",
    "\n",
    "        for m in range(len(game_timeline['info']['frames'])):\n",
    "            for n in range(1, 11):\n",
    "                gold['{}'.format(m)]['{}'.format(n)] = game_timeline['info']['frames'][m]['participantFrames']['{}'.format(n)]['totalGold']\n",
    "\n",
    "        team_1_gold = []\n",
    "        team_2_gold = []\n",
    "        for key in gold.keys():\n",
    "            team1 = 0\n",
    "            team2 = 0\n",
    "            for o in range(1, 6):\n",
    "                team1 += gold[key]['{}'.format(o)]\n",
    "                team2 += gold[key]['{}'.format(o + 5)]\n",
    "            team_1_gold.append(team1)\n",
    "            team_2_gold.append(team2)\n",
    "        frame_size = [val for val in range(len(team_1_gold))]\n",
    "\n",
    "        gold_diff = (np.array(team_1_gold) - np.array(team_2_gold)).tolist()\n",
    "        \n",
    "        # id, game_id, team_1, team_2, gold_diff, winner\n",
    "        cur.execute(insert_match, (match_list[i], str(team_1_gold), str(team_2_gold), str(gold_diff), winner))\n",
    "        connection.commit()\n",
    "        sleep(0.85)\n",
    "        # return((match_list(i), team_1_gold, team_2_gold, gold_diff) \n",
    "        # plt.plot(frame_size, team_1_gold, label=\"Team 1\", marker='o')\n",
    "        # plt.title('GoldTeam 1')\n",
    "        # plt.xlabel('Minutes')\n",
    "        # plt.ylabel('Gold')\n",
    "        # plt.plot(frame_size, team_2_gold, label=\"Team 2\", marker='o')\n",
    "        # plt.plot(frame_size, gold_diff, label=\"Diff\", marker='o')\n",
    "        # plt.legend()\n",
    "        # plt.show()\n",
    " "
   ]
  },
  {
   "cell_type": "code",
   "execution_count": null,
   "id": "4bb649e8-ee17-4a61-9841-e7c33db5490a",
   "metadata": {},
   "outputs": [],
   "source": [
    "for name in challenger_names:\n",
    "    player_uid = get_summoner_uid(name)\n",
    "    if player_uid == \"No summoner\":\n",
    "        return \"No summoner found\"\n",
    "    try:\n",
    "        get_gold_per_match(player_uid)\n",
    "    except:\n",
    "        continue\n",
    "    "
   ]
  },
  {
   "cell_type": "code",
   "execution_count": null,
   "id": "ca1e6fa5-ee00-4535-9b1b-eee89bae0cb0",
   "metadata": {},
   "outputs": [],
   "source": [
    "connection.close()"
   ]
  }
 ],
 "metadata": {
  "kernelspec": {
   "display_name": "py37gpu",
   "language": "python",
   "name": "myenv"
  },
  "language_info": {
   "codemirror_mode": {
    "name": "ipython",
    "version": 3
   },
   "file_extension": ".py",
   "mimetype": "text/x-python",
   "name": "python",
   "nbconvert_exporter": "python",
   "pygments_lexer": "ipython3",
   "version": "3.7.11"
  }
 },
 "nbformat": 4,
 "nbformat_minor": 5
}
