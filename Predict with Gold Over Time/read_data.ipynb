{
 "cells": [
  {
   "cell_type": "code",
   "execution_count": 1,
   "id": "5ba53d2b-8203-4815-818a-db7d85807472",
   "metadata": {},
   "outputs": [],
   "source": [
    "import sqlite3\n",
    "import pandas as pd\n",
    "import numpy as np"
   ]
  },
  {
   "cell_type": "code",
   "execution_count": 2,
   "id": "a605818b-8ac0-4cab-97dd-dca34f475213",
   "metadata": {},
   "outputs": [],
   "source": [
    "con = sqlite3.connect('test_matches.db')"
   ]
  },
  {
   "cell_type": "code",
   "execution_count": 3,
   "id": "5d37a089-8013-4040-8647-ee80bb394909",
   "metadata": {},
   "outputs": [],
   "source": [
    "df_matches =  pd.read_sql_query(\"SELECT * FROM match\", con)"
   ]
  },
  {
   "cell_type": "code",
   "execution_count": 4,
   "id": "a8848cec-0846-4c75-b72a-10ebe55bd9cf",
   "metadata": {},
   "outputs": [
    {
     "name": "stdout",
     "output_type": "stream",
     "text": [
      "<class 'pandas.core.frame.DataFrame'>\n",
      "RangeIndex: 100 entries, 0 to 99\n",
      "Data columns (total 6 columns):\n",
      " #   Column     Non-Null Count  Dtype \n",
      "---  ------     --------------  ----- \n",
      " 0   id         100 non-null    int64 \n",
      " 1   game_id    100 non-null    object\n",
      " 2   team_1     100 non-null    object\n",
      " 3   team_2     100 non-null    object\n",
      " 4   gold_diff  100 non-null    object\n",
      " 5   winner     100 non-null    object\n",
      "dtypes: int64(1), object(5)\n",
      "memory usage: 4.8+ KB\n"
     ]
    }
   ],
   "source": [
    "df_matches.info()"
   ]
  },
  {
   "cell_type": "code",
   "execution_count": 5,
   "id": "a2ddeb41-85d7-4d67-a489-14fa698c51dd",
   "metadata": {},
   "outputs": [
    {
     "data": {
      "text/html": [
       "<div>\n",
       "<style scoped>\n",
       "    .dataframe tbody tr th:only-of-type {\n",
       "        vertical-align: middle;\n",
       "    }\n",
       "\n",
       "    .dataframe tbody tr th {\n",
       "        vertical-align: top;\n",
       "    }\n",
       "\n",
       "    .dataframe thead th {\n",
       "        text-align: right;\n",
       "    }\n",
       "</style>\n",
       "<table border=\"1\" class=\"dataframe\">\n",
       "  <thead>\n",
       "    <tr style=\"text-align: right;\">\n",
       "      <th></th>\n",
       "      <th>id</th>\n",
       "      <th>game_id</th>\n",
       "      <th>team_1</th>\n",
       "      <th>team_2</th>\n",
       "      <th>gold_diff</th>\n",
       "      <th>winner</th>\n",
       "    </tr>\n",
       "  </thead>\n",
       "  <tbody>\n",
       "    <tr>\n",
       "      <th>92</th>\n",
       "      <td>93</td>\n",
       "      <td>NA1_4095222204</td>\n",
       "      <td>[2500, 2500, 2913, 4216, 6154, 7860, 10451, 11...</td>\n",
       "      <td>[2500, 2500, 2864, 4416, 5650, 7279, 9634, 108...</td>\n",
       "      <td>[   0    0   49 -200  504  581  817  703  965 ...</td>\n",
       "      <td>Team 2</td>\n",
       "    </tr>\n",
       "    <tr>\n",
       "      <th>26</th>\n",
       "      <td>27</td>\n",
       "      <td>NA1_4097599833</td>\n",
       "      <td>[2500, 2500, 3097, 4638, 6578, 8594, 9692, 110...</td>\n",
       "      <td>[2500, 2500, 3395, 4949, 6197, 8474, 10703, 12...</td>\n",
       "      <td>[    0     0  -298  -311   381   120 -1011 -11...</td>\n",
       "      <td>Team 2</td>\n",
       "    </tr>\n",
       "    <tr>\n",
       "      <th>85</th>\n",
       "      <td>86</td>\n",
       "      <td>NA1_4096239933</td>\n",
       "      <td>[2500, 3000, 3401, 4848, 7938, 9252, 10904, 12...</td>\n",
       "      <td>[2500, 2500, 2971, 5024, 6224, 7718, 9346, 106...</td>\n",
       "      <td>[    0   500   430  -176  1714  1534  1558  18...</td>\n",
       "      <td>Team 2</td>\n",
       "    </tr>\n",
       "    <tr>\n",
       "      <th>96</th>\n",
       "      <td>97</td>\n",
       "      <td>NA1_4094111987</td>\n",
       "      <td>[2500, 2500, 2872, 4348, 5841, 6945, 8285, 992...</td>\n",
       "      <td>[2500, 2500, 2934, 4567, 5889, 7399, 9709, 112...</td>\n",
       "      <td>[     0      0    -62   -219    -48   -454  -1...</td>\n",
       "      <td>Team 1</td>\n",
       "    </tr>\n",
       "    <tr>\n",
       "      <th>97</th>\n",
       "      <td>98</td>\n",
       "      <td>NA1_4094054225</td>\n",
       "      <td>[2500, 2500, 2929, 4688, 6242, 7959, 9310, 111...</td>\n",
       "      <td>[2500, 2500, 2910, 4920, 6021, 7489, 9141, 106...</td>\n",
       "      <td>[    0     0    19  -232   221   470   169   4...</td>\n",
       "      <td>Team 2</td>\n",
       "    </tr>\n",
       "  </tbody>\n",
       "</table>\n",
       "</div>"
      ],
      "text/plain": [
       "    id         game_id                                             team_1  \\\n",
       "92  93  NA1_4095222204  [2500, 2500, 2913, 4216, 6154, 7860, 10451, 11...   \n",
       "26  27  NA1_4097599833  [2500, 2500, 3097, 4638, 6578, 8594, 9692, 110...   \n",
       "85  86  NA1_4096239933  [2500, 3000, 3401, 4848, 7938, 9252, 10904, 12...   \n",
       "96  97  NA1_4094111987  [2500, 2500, 2872, 4348, 5841, 6945, 8285, 992...   \n",
       "97  98  NA1_4094054225  [2500, 2500, 2929, 4688, 6242, 7959, 9310, 111...   \n",
       "\n",
       "                                               team_2  \\\n",
       "92  [2500, 2500, 2864, 4416, 5650, 7279, 9634, 108...   \n",
       "26  [2500, 2500, 3395, 4949, 6197, 8474, 10703, 12...   \n",
       "85  [2500, 2500, 2971, 5024, 6224, 7718, 9346, 106...   \n",
       "96  [2500, 2500, 2934, 4567, 5889, 7399, 9709, 112...   \n",
       "97  [2500, 2500, 2910, 4920, 6021, 7489, 9141, 106...   \n",
       "\n",
       "                                            gold_diff  winner  \n",
       "92  [   0    0   49 -200  504  581  817  703  965 ...  Team 2  \n",
       "26  [    0     0  -298  -311   381   120 -1011 -11...  Team 2  \n",
       "85  [    0   500   430  -176  1714  1534  1558  18...  Team 2  \n",
       "96  [     0      0    -62   -219    -48   -454  -1...  Team 1  \n",
       "97  [    0     0    19  -232   221   470   169   4...  Team 2  "
      ]
     },
     "execution_count": 5,
     "metadata": {},
     "output_type": "execute_result"
    }
   ],
   "source": [
    "df_matches.sample(5)"
   ]
  },
  {
   "cell_type": "code",
   "execution_count": 6,
   "id": "7f73c1cf-ddd4-4a9c-aaed-c4f4a9a5dcfa",
   "metadata": {},
   "outputs": [
    {
     "data": {
      "text/html": [
       "<div>\n",
       "<style scoped>\n",
       "    .dataframe tbody tr th:only-of-type {\n",
       "        vertical-align: middle;\n",
       "    }\n",
       "\n",
       "    .dataframe tbody tr th {\n",
       "        vertical-align: top;\n",
       "    }\n",
       "\n",
       "    .dataframe thead th {\n",
       "        text-align: right;\n",
       "    }\n",
       "</style>\n",
       "<table border=\"1\" class=\"dataframe\">\n",
       "  <thead>\n",
       "    <tr style=\"text-align: right;\">\n",
       "      <th></th>\n",
       "      <th>id</th>\n",
       "      <th>game_id</th>\n",
       "      <th>team_1</th>\n",
       "      <th>team_2</th>\n",
       "      <th>gold_diff</th>\n",
       "      <th>winner</th>\n",
       "    </tr>\n",
       "  </thead>\n",
       "  <tbody>\n",
       "    <tr>\n",
       "      <th>0</th>\n",
       "      <td>1</td>\n",
       "      <td>NA1_4155081821</td>\n",
       "      <td>[2500, 2500, 3076, 4705, 5845, 7620, 8865, 101...</td>\n",
       "      <td>[2500, 2500, 2945, 4917, 6725, 8345, 9748, 124...</td>\n",
       "      <td>[     0      0    131   -212   -880   -725   -...</td>\n",
       "      <td>Team 1</td>\n",
       "    </tr>\n",
       "    <tr>\n",
       "      <th>1</th>\n",
       "      <td>2</td>\n",
       "      <td>NA1_4148645836</td>\n",
       "      <td>[2500, 2500, 2649, 3913, 5486, 6865, 8187, 988...</td>\n",
       "      <td>[2500, 3020, 3127, 5605, 6767, 9455, 10660, 12...</td>\n",
       "      <td>[     0   -520   -478  -1692  -1281  -2590  -2...</td>\n",
       "      <td>Team 1</td>\n",
       "    </tr>\n",
       "    <tr>\n",
       "      <th>2</th>\n",
       "      <td>3</td>\n",
       "      <td>NA1_4147765789</td>\n",
       "      <td>[2500, 2500, 2907, 4267, 6494, 8279, 10132, 12...</td>\n",
       "      <td>[2500, 2500, 2882, 4661, 5754, 7462, 9607, 113...</td>\n",
       "      <td>[    0     0    25  -394   740   817   525   8...</td>\n",
       "      <td>Team 2</td>\n",
       "    </tr>\n",
       "    <tr>\n",
       "      <th>3</th>\n",
       "      <td>4</td>\n",
       "      <td>NA1_4146420670</td>\n",
       "      <td>[2500, 2500, 2914, 4279, 5677, 7711, 9627, 111...</td>\n",
       "      <td>[2500, 2500, 2917, 4243, 6373, 7909, 9537, 126...</td>\n",
       "      <td>[     0      0     -3     36   -696   -198    ...</td>\n",
       "      <td>Team 1</td>\n",
       "    </tr>\n",
       "    <tr>\n",
       "      <th>4</th>\n",
       "      <td>5</td>\n",
       "      <td>NA1_4146375941</td>\n",
       "      <td>[2500, 2500, 2881, 5599, 6848, 8233, 9455, 115...</td>\n",
       "      <td>[2500, 2520, 2859, 4610, 6144, 7885, 9728, 110...</td>\n",
       "      <td>[    0   -20    22   989   704   348  -273   5...</td>\n",
       "      <td>Team 1</td>\n",
       "    </tr>\n",
       "    <tr>\n",
       "      <th>...</th>\n",
       "      <td>...</td>\n",
       "      <td>...</td>\n",
       "      <td>...</td>\n",
       "      <td>...</td>\n",
       "      <td>...</td>\n",
       "      <td>...</td>\n",
       "    </tr>\n",
       "    <tr>\n",
       "      <th>95</th>\n",
       "      <td>96</td>\n",
       "      <td>NA1_4095051926</td>\n",
       "      <td>[2500, 2500, 2678, 4209, 5536, 6970, 8528, 110...</td>\n",
       "      <td>[2500, 2500, 3609, 4929, 6573, 8979, 10378, 12...</td>\n",
       "      <td>[    0     0  -931  -720 -1037 -2009 -1850 -14...</td>\n",
       "      <td>Team 1</td>\n",
       "    </tr>\n",
       "    <tr>\n",
       "      <th>96</th>\n",
       "      <td>97</td>\n",
       "      <td>NA1_4094111987</td>\n",
       "      <td>[2500, 2500, 2872, 4348, 5841, 6945, 8285, 992...</td>\n",
       "      <td>[2500, 2500, 2934, 4567, 5889, 7399, 9709, 112...</td>\n",
       "      <td>[     0      0    -62   -219    -48   -454  -1...</td>\n",
       "      <td>Team 1</td>\n",
       "    </tr>\n",
       "    <tr>\n",
       "      <th>97</th>\n",
       "      <td>98</td>\n",
       "      <td>NA1_4094054225</td>\n",
       "      <td>[2500, 2500, 2929, 4688, 6242, 7959, 9310, 111...</td>\n",
       "      <td>[2500, 2500, 2910, 4920, 6021, 7489, 9141, 106...</td>\n",
       "      <td>[    0     0    19  -232   221   470   169   4...</td>\n",
       "      <td>Team 2</td>\n",
       "    </tr>\n",
       "    <tr>\n",
       "      <th>98</th>\n",
       "      <td>99</td>\n",
       "      <td>NA1_4094030126</td>\n",
       "      <td>[2500, 2500, 2784, 4680, 6388, 7639, 9333, 108...</td>\n",
       "      <td>[2500, 2500, 2889, 4552, 6136, 7754, 9710, 114...</td>\n",
       "      <td>[    0     0  -105   128   252  -115  -377  -6...</td>\n",
       "      <td>Team 1</td>\n",
       "    </tr>\n",
       "    <tr>\n",
       "      <th>99</th>\n",
       "      <td>100</td>\n",
       "      <td>NA1_4093981884</td>\n",
       "      <td>[2500, 2500, 2907, 4613, 6039, 7671, 9491, 112...</td>\n",
       "      <td>[2500, 2500, 2670, 4250, 5864, 7239, 8754, 102...</td>\n",
       "      <td>[   0    0  237  363  175  432  737 1029 2606 ...</td>\n",
       "      <td>Team 2</td>\n",
       "    </tr>\n",
       "  </tbody>\n",
       "</table>\n",
       "<p>98 rows × 6 columns</p>\n",
       "</div>"
      ],
      "text/plain": [
       "     id         game_id                                             team_1  \\\n",
       "0     1  NA1_4155081821  [2500, 2500, 3076, 4705, 5845, 7620, 8865, 101...   \n",
       "1     2  NA1_4148645836  [2500, 2500, 2649, 3913, 5486, 6865, 8187, 988...   \n",
       "2     3  NA1_4147765789  [2500, 2500, 2907, 4267, 6494, 8279, 10132, 12...   \n",
       "3     4  NA1_4146420670  [2500, 2500, 2914, 4279, 5677, 7711, 9627, 111...   \n",
       "4     5  NA1_4146375941  [2500, 2500, 2881, 5599, 6848, 8233, 9455, 115...   \n",
       "..  ...             ...                                                ...   \n",
       "95   96  NA1_4095051926  [2500, 2500, 2678, 4209, 5536, 6970, 8528, 110...   \n",
       "96   97  NA1_4094111987  [2500, 2500, 2872, 4348, 5841, 6945, 8285, 992...   \n",
       "97   98  NA1_4094054225  [2500, 2500, 2929, 4688, 6242, 7959, 9310, 111...   \n",
       "98   99  NA1_4094030126  [2500, 2500, 2784, 4680, 6388, 7639, 9333, 108...   \n",
       "99  100  NA1_4093981884  [2500, 2500, 2907, 4613, 6039, 7671, 9491, 112...   \n",
       "\n",
       "                                               team_2  \\\n",
       "0   [2500, 2500, 2945, 4917, 6725, 8345, 9748, 124...   \n",
       "1   [2500, 3020, 3127, 5605, 6767, 9455, 10660, 12...   \n",
       "2   [2500, 2500, 2882, 4661, 5754, 7462, 9607, 113...   \n",
       "3   [2500, 2500, 2917, 4243, 6373, 7909, 9537, 126...   \n",
       "4   [2500, 2520, 2859, 4610, 6144, 7885, 9728, 110...   \n",
       "..                                                ...   \n",
       "95  [2500, 2500, 3609, 4929, 6573, 8979, 10378, 12...   \n",
       "96  [2500, 2500, 2934, 4567, 5889, 7399, 9709, 112...   \n",
       "97  [2500, 2500, 2910, 4920, 6021, 7489, 9141, 106...   \n",
       "98  [2500, 2500, 2889, 4552, 6136, 7754, 9710, 114...   \n",
       "99  [2500, 2500, 2670, 4250, 5864, 7239, 8754, 102...   \n",
       "\n",
       "                                            gold_diff  winner  \n",
       "0   [     0      0    131   -212   -880   -725   -...  Team 1  \n",
       "1   [     0   -520   -478  -1692  -1281  -2590  -2...  Team 1  \n",
       "2   [    0     0    25  -394   740   817   525   8...  Team 2  \n",
       "3   [     0      0     -3     36   -696   -198    ...  Team 1  \n",
       "4   [    0   -20    22   989   704   348  -273   5...  Team 1  \n",
       "..                                                ...     ...  \n",
       "95  [    0     0  -931  -720 -1037 -2009 -1850 -14...  Team 1  \n",
       "96  [     0      0    -62   -219    -48   -454  -1...  Team 1  \n",
       "97  [    0     0    19  -232   221   470   169   4...  Team 2  \n",
       "98  [    0     0  -105   128   252  -115  -377  -6...  Team 1  \n",
       "99  [   0    0  237  363  175  432  737 1029 2606 ...  Team 2  \n",
       "\n",
       "[98 rows x 6 columns]"
      ]
     },
     "execution_count": 6,
     "metadata": {},
     "output_type": "execute_result"
    }
   ],
   "source": [
    "df_matches.drop_duplicates(subset=['game_id'])"
   ]
  },
  {
   "cell_type": "code",
   "execution_count": 7,
   "id": "28a1f5bd-6d18-4f15-af0e-255dbdf613c3",
   "metadata": {},
   "outputs": [],
   "source": [
    "df_data = df_matches[[\"gold_diff\", \"winner\"]]"
   ]
  },
  {
   "cell_type": "code",
   "execution_count": 8,
   "id": "acb28508-7e29-4c3a-996b-ccf8953fedbc",
   "metadata": {},
   "outputs": [
    {
     "data": {
      "text/html": [
       "<div>\n",
       "<style scoped>\n",
       "    .dataframe tbody tr th:only-of-type {\n",
       "        vertical-align: middle;\n",
       "    }\n",
       "\n",
       "    .dataframe tbody tr th {\n",
       "        vertical-align: top;\n",
       "    }\n",
       "\n",
       "    .dataframe thead th {\n",
       "        text-align: right;\n",
       "    }\n",
       "</style>\n",
       "<table border=\"1\" class=\"dataframe\">\n",
       "  <thead>\n",
       "    <tr style=\"text-align: right;\">\n",
       "      <th></th>\n",
       "      <th>gold_diff</th>\n",
       "      <th>winner</th>\n",
       "    </tr>\n",
       "  </thead>\n",
       "  <tbody>\n",
       "    <tr>\n",
       "      <th>0</th>\n",
       "      <td>[     0      0    131   -212   -880   -725   -...</td>\n",
       "      <td>Team 1</td>\n",
       "    </tr>\n",
       "    <tr>\n",
       "      <th>1</th>\n",
       "      <td>[     0   -520   -478  -1692  -1281  -2590  -2...</td>\n",
       "      <td>Team 1</td>\n",
       "    </tr>\n",
       "    <tr>\n",
       "      <th>2</th>\n",
       "      <td>[    0     0    25  -394   740   817   525   8...</td>\n",
       "      <td>Team 2</td>\n",
       "    </tr>\n",
       "    <tr>\n",
       "      <th>3</th>\n",
       "      <td>[     0      0     -3     36   -696   -198    ...</td>\n",
       "      <td>Team 1</td>\n",
       "    </tr>\n",
       "    <tr>\n",
       "      <th>4</th>\n",
       "      <td>[    0   -20    22   989   704   348  -273   5...</td>\n",
       "      <td>Team 1</td>\n",
       "    </tr>\n",
       "  </tbody>\n",
       "</table>\n",
       "</div>"
      ],
      "text/plain": [
       "                                           gold_diff  winner\n",
       "0  [     0      0    131   -212   -880   -725   -...  Team 1\n",
       "1  [     0   -520   -478  -1692  -1281  -2590  -2...  Team 1\n",
       "2  [    0     0    25  -394   740   817   525   8...  Team 2\n",
       "3  [     0      0     -3     36   -696   -198    ...  Team 1\n",
       "4  [    0   -20    22   989   704   348  -273   5...  Team 1"
      ]
     },
     "execution_count": 8,
     "metadata": {},
     "output_type": "execute_result"
    }
   ],
   "source": [
    "df_data.head()"
   ]
  },
  {
   "cell_type": "code",
   "execution_count": 9,
   "id": "d4298a14-0a99-4d92-8bf9-a844a9e69c27",
   "metadata": {},
   "outputs": [
    {
     "data": {
      "text/plain": [
       "'[     0      0    131   -212   -880   -725   -883  -2318  -2211  -1017\\n  -1586  -2281  -2990  -3286  -2207  -2622  -2795  -3527  -5095  -5702\\n  -5734  -5234  -7537  -9842 -11129 -15150 -15794 -18278]'"
      ]
     },
     "execution_count": 9,
     "metadata": {},
     "output_type": "execute_result"
    }
   ],
   "source": [
    "sample_1 = df_data[\"gold_diff\"][0]\n",
    "sample_1"
   ]
  },
  {
   "cell_type": "code",
   "execution_count": 10,
   "id": "4119a4c9-6bfd-4733-b043-0e77b4f0d07c",
   "metadata": {},
   "outputs": [],
   "source": [
    "sample_1 = sample_1.strip(\" []\\n\")"
   ]
  },
  {
   "cell_type": "code",
   "execution_count": 11,
   "id": "2679dbcc-c7e9-4a42-821f-620de2352802",
   "metadata": {},
   "outputs": [
    {
     "data": {
      "text/plain": [
       "'0      0    131   -212   -880   -725   -883  -2318  -2211  -1017\\n  -1586  -2281  -2990  -3286  -2207  -2622  -2795  -3527  -5095  -5702\\n  -5734  -5234  -7537  -9842 -11129 -15150 -15794 -18278'"
      ]
     },
     "execution_count": 11,
     "metadata": {},
     "output_type": "execute_result"
    }
   ],
   "source": [
    "test = str(sample_1)\n",
    "test"
   ]
  },
  {
   "cell_type": "code",
   "execution_count": 12,
   "id": "1bd86964-ae38-4720-aead-2aa25d756e08",
   "metadata": {},
   "outputs": [
    {
     "data": {
      "text/plain": [
       "'0      0    131   -212   -880   -725   -883  -2318  -2211  -1017\\n  -1586  -2281  -2990  -3286  -2207  -2622  -2795  -3527  -5095  -5702\\n  -5734  -5234  -7537  -9842 -11129 -15150 -15794 -18278'"
      ]
     },
     "execution_count": 12,
     "metadata": {},
     "output_type": "execute_result"
    }
   ],
   "source": [
    "test  = test.strip(\"[]\")\n",
    "test = test.strip()\n",
    "test"
   ]
  },
  {
   "cell_type": "code",
   "execution_count": 43,
   "id": "09561380-40a6-4814-8ba5-d305148a0184",
   "metadata": {},
   "outputs": [],
   "source": [
    "test_1 = df_matches[\"team_1\"][0]\n",
    "# test_2 = [int(num) for num in test_1]"
   ]
  },
  {
   "cell_type": "code",
   "execution_count": 62,
   "id": "5e47dca5-db6c-43f6-b100-767e66e8fcf7",
   "metadata": {},
   "outputs": [
    {
     "data": {
      "text/plain": [
       "[2500,\n",
       " 2500,\n",
       " 3076,\n",
       " 4705,\n",
       " 5845,\n",
       " 7620,\n",
       " 8865,\n",
       " 10102,\n",
       " 12133,\n",
       " 15487,\n",
       " 16799,\n",
       " 19575,\n",
       " 21502,\n",
       " 22695,\n",
       " 25062,\n",
       " 26646,\n",
       " 29657,\n",
       " 31571,\n",
       " 33253,\n",
       " 35524,\n",
       " 37121,\n",
       " 39958,\n",
       " 41876,\n",
       " 44169,\n",
       " 45370,\n",
       " 47336,\n",
       " 49782,\n",
       " 50232]"
      ]
     },
     "execution_count": 62,
     "metadata": {},
     "output_type": "execute_result"
    }
   ],
   "source": [
    "# test_3 = \n",
    "# for item in test_1:\n",
    "#     print(item).type\n",
    "# # arr = test_1\n",
    "# # arr\n",
    "gold_regex_1 = test_1.strip(\"[]'\").strip(\" '' \").split(\", \")\n",
    "gold_reg_mod = [int(item) for item in test_1.strip(\"[]'\").strip(\" '' \").split(\", \")]\n",
    "gold_reg_mod"
   ]
  },
  {
   "cell_type": "code",
   "execution_count": 83,
   "id": "107c7a93-17a8-40c7-bcc8-81e43b128175",
   "metadata": {},
   "outputs": [],
   "source": [
    "change_to_arr = lambda x: np.array([int(item) for item in x.strip(\"[]'\").strip(\" '' \").split(\", \")])"
   ]
  },
  {
   "cell_type": "code",
   "execution_count": 94,
   "id": "776fdeb9-fb41-4fb7-a9c0-52eecae775ac",
   "metadata": {},
   "outputs": [
    {
     "name": "stderr",
     "output_type": "stream",
     "text": [
      "D:\\anaconda\\envs\\py37gpu\\lib\\site-packages\\ipykernel_launcher.py:2: SettingWithCopyWarning: \n",
      "A value is trying to be set on a copy of a slice from a DataFrame.\n",
      "Try using .loc[row_indexer,col_indexer] = value instead\n",
      "\n",
      "See the caveats in the documentation: https://pandas.pydata.org/pandas-docs/stable/user_guide/indexing.html#returning-a-view-versus-a-copy\n",
      "  \n",
      "D:\\anaconda\\envs\\py37gpu\\lib\\site-packages\\ipykernel_launcher.py:3: SettingWithCopyWarning: \n",
      "A value is trying to be set on a copy of a slice from a DataFrame.\n",
      "Try using .loc[row_indexer,col_indexer] = value instead\n",
      "\n",
      "See the caveats in the documentation: https://pandas.pydata.org/pandas-docs/stable/user_guide/indexing.html#returning-a-view-versus-a-copy\n",
      "  This is separate from the ipykernel package so we can avoid doing imports until\n",
      "D:\\anaconda\\envs\\py37gpu\\lib\\site-packages\\ipykernel_launcher.py:4: SettingWithCopyWarning: \n",
      "A value is trying to be set on a copy of a slice from a DataFrame.\n",
      "Try using .loc[row_indexer,col_indexer] = value instead\n",
      "\n",
      "See the caveats in the documentation: https://pandas.pydata.org/pandas-docs/stable/user_guide/indexing.html#returning-a-view-versus-a-copy\n",
      "  after removing the cwd from sys.path.\n"
     ]
    },
    {
     "data": {
      "text/html": [
       "<div>\n",
       "<style scoped>\n",
       "    .dataframe tbody tr th:only-of-type {\n",
       "        vertical-align: middle;\n",
       "    }\n",
       "\n",
       "    .dataframe tbody tr th {\n",
       "        vertical-align: top;\n",
       "    }\n",
       "\n",
       "    .dataframe thead th {\n",
       "        text-align: right;\n",
       "    }\n",
       "</style>\n",
       "<table border=\"1\" class=\"dataframe\">\n",
       "  <thead>\n",
       "    <tr style=\"text-align: right;\">\n",
       "      <th></th>\n",
       "      <th>diff</th>\n",
       "      <th>winner</th>\n",
       "    </tr>\n",
       "  </thead>\n",
       "  <tbody>\n",
       "    <tr>\n",
       "      <th>0</th>\n",
       "      <td>[0, 0, 131, -212, -880, -725, -883, -2318, -22...</td>\n",
       "      <td>Team 1</td>\n",
       "    </tr>\n",
       "    <tr>\n",
       "      <th>1</th>\n",
       "      <td>[0, -520, -478, -1692, -1281, -2590, -2473, -3...</td>\n",
       "      <td>Team 1</td>\n",
       "    </tr>\n",
       "    <tr>\n",
       "      <th>2</th>\n",
       "      <td>[0, 0, 25, -394, 740, 817, 525, 862, 1473, 269...</td>\n",
       "      <td>Team 2</td>\n",
       "    </tr>\n",
       "    <tr>\n",
       "      <th>3</th>\n",
       "      <td>[0, 0, -3, 36, -696, -198, 90, -1495, -2016, -...</td>\n",
       "      <td>Team 1</td>\n",
       "    </tr>\n",
       "    <tr>\n",
       "      <th>4</th>\n",
       "      <td>[0, -20, 22, 989, 704, 348, -273, 523, 1180, 9...</td>\n",
       "      <td>Team 1</td>\n",
       "    </tr>\n",
       "    <tr>\n",
       "      <th>...</th>\n",
       "      <td>...</td>\n",
       "      <td>...</td>\n",
       "    </tr>\n",
       "    <tr>\n",
       "      <th>95</th>\n",
       "      <td>[0, 0, -931, -720, -1037, -2009, -1850, -1433,...</td>\n",
       "      <td>Team 1</td>\n",
       "    </tr>\n",
       "    <tr>\n",
       "      <th>96</th>\n",
       "      <td>[0, 0, -62, -219, -48, -454, -1424, -1373, -80...</td>\n",
       "      <td>Team 1</td>\n",
       "    </tr>\n",
       "    <tr>\n",
       "      <th>97</th>\n",
       "      <td>[0, 0, 19, -232, 221, 470, 169, 463, 873, 846,...</td>\n",
       "      <td>Team 2</td>\n",
       "    </tr>\n",
       "    <tr>\n",
       "      <th>98</th>\n",
       "      <td>[0, 0, -105, 128, 252, -115, -377, -687, -610,...</td>\n",
       "      <td>Team 1</td>\n",
       "    </tr>\n",
       "    <tr>\n",
       "      <th>99</th>\n",
       "      <td>[0, 0, 237, 363, 175, 432, 737, 1029, 2606, 29...</td>\n",
       "      <td>Team 2</td>\n",
       "    </tr>\n",
       "  </tbody>\n",
       "</table>\n",
       "<p>100 rows × 2 columns</p>\n",
       "</div>"
      ],
      "text/plain": [
       "                                                 diff  winner\n",
       "0   [0, 0, 131, -212, -880, -725, -883, -2318, -22...  Team 1\n",
       "1   [0, -520, -478, -1692, -1281, -2590, -2473, -3...  Team 1\n",
       "2   [0, 0, 25, -394, 740, 817, 525, 862, 1473, 269...  Team 2\n",
       "3   [0, 0, -3, 36, -696, -198, 90, -1495, -2016, -...  Team 1\n",
       "4   [0, -20, 22, 989, 704, 348, -273, 523, 1180, 9...  Team 1\n",
       "..                                                ...     ...\n",
       "95  [0, 0, -931, -720, -1037, -2009, -1850, -1433,...  Team 1\n",
       "96  [0, 0, -62, -219, -48, -454, -1424, -1373, -80...  Team 1\n",
       "97  [0, 0, 19, -232, 221, 470, 169, 463, 873, 846,...  Team 2\n",
       "98  [0, 0, -105, 128, 252, -115, -377, -687, -610,...  Team 1\n",
       "99  [0, 0, 237, 363, 175, 432, 737, 1029, 2606, 29...  Team 2\n",
       "\n",
       "[100 rows x 2 columns]"
      ]
     },
     "execution_count": 94,
     "metadata": {},
     "output_type": "execute_result"
    }
   ],
   "source": [
    "df_gold = df_matches[[\"team_1\", \"team_2\", \"winner\"]] \n",
    "df_gold[\"team_1\"] = df_gold.team_1.apply(change_to_arr)\n",
    "df_gold[\"team_2\"] = df_gold.team_2.apply(change_to_arr)\n",
    "df_gold[\"diff\"] = df_gold[\"team_1\"] - df_gold[\"team_2\"]\n",
    "\n",
    "data = df_gold[[\"diff\", \"winner\"]]\n",
    "data"
   ]
  },
  {
   "cell_type": "code",
   "execution_count": null,
   "id": "8ad35d71-9e8f-4367-b121-059492778c7f",
   "metadata": {},
   "outputs": [],
   "source": []
  }
 ],
 "metadata": {
  "kernelspec": {
   "display_name": "py37gpu",
   "language": "python",
   "name": "myenv"
  },
  "language_info": {
   "codemirror_mode": {
    "name": "ipython",
    "version": 3
   },
   "file_extension": ".py",
   "mimetype": "text/x-python",
   "name": "python",
   "nbconvert_exporter": "python",
   "pygments_lexer": "ipython3",
   "version": "3.7.11"
  }
 },
 "nbformat": 4,
 "nbformat_minor": 5
}
