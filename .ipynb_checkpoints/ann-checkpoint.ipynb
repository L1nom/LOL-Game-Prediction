{
 "cells": [
  {
   "cell_type": "markdown",
   "id": "acb9b56f-a463-4d12-a8a6-5ac220f52f72",
   "metadata": {},
   "source": [
    "Import the libraries"
   ]
  },
  {
   "cell_type": "code",
   "execution_count": 1,
   "id": "57c36f05-0632-4555-a5c1-8726395034a6",
   "metadata": {},
   "outputs": [],
   "source": [
    "import numpy as np\n",
    "import pandas as pd\n",
    "import tensorflow as tf"
   ]
  },
  {
   "cell_type": "markdown",
   "id": "5b82cedb-8d1e-463b-b9c1-6cc099904701",
   "metadata": {},
   "source": [
    "Check Tensorflow version"
   ]
  },
  {
   "cell_type": "code",
   "execution_count": 2,
   "id": "d2d75df9-6953-4e9e-82df-f1388a776afc",
   "metadata": {},
   "outputs": [
    {
     "data": {
      "text/plain": [
       "'2.7.0'"
      ]
     },
     "execution_count": 2,
     "metadata": {},
     "output_type": "execute_result"
    }
   ],
   "source": [
    "tf.__version__"
   ]
  },
  {
   "cell_type": "markdown",
   "id": "e415999a-26ea-44f7-a3c0-a5860a58b416",
   "metadata": {},
   "source": [
    "Imorting dataset using pandas, split into feature and label"
   ]
  },
  {
   "cell_type": "code",
   "execution_count": 3,
   "id": "6af2ab7d-9527-4d74-a7a5-db61a0a6efda",
   "metadata": {},
   "outputs": [],
   "source": [
    "dataset = pd.read_excel(\"CCPP/Folds5x2_pp.xlsx\")\n",
    "x = dataset.iloc[:, :-1].values\n",
    "y = dataset.iloc[:, -1].values"
   ]
  },
  {
   "cell_type": "code",
   "execution_count": 4,
   "id": "ae35ea90-a435-41e3-b87a-dd29394512b5",
   "metadata": {},
   "outputs": [
    {
     "name": "stdout",
     "output_type": "stream",
     "text": [
      "[[  14.96   41.76 1024.07   73.17]\n",
      " [  25.18   62.96 1020.04   59.08]\n",
      " [   5.11   39.4  1012.16   92.14]\n",
      " ...\n",
      " [  31.32   74.33 1012.92   36.48]\n",
      " [  24.48   69.45 1013.86   62.39]\n",
      " [  21.6    62.52 1017.23   67.87]]\n",
      "[463.26 444.37 488.56 ... 429.57 435.74 453.28]\n"
     ]
    }
   ],
   "source": [
    "print(x)\n",
    "print(y)"
   ]
  },
  {
   "cell_type": "markdown",
   "id": "0e10debe-4a02-41fd-b925-17bd17e6f499",
   "metadata": {},
   "source": [
    "Splitting dataset into train and test"
   ]
  },
  {
   "cell_type": "code",
   "execution_count": 5,
   "id": "6e206385-4537-4d59-bf6a-43cdd9b83b43",
   "metadata": {},
   "outputs": [],
   "source": [
    "from sklearn.model_selection import train_test_split\n",
    "x_train, x_test, y_train, y_test = train_test_split(x, y, test_size=0.2, random_state=0)"
   ]
  },
  {
   "cell_type": "markdown",
   "id": "9ab51efd-0d73-4d63-9162-65bdb6685326",
   "metadata": {},
   "source": [
    "Building the ANN ~ Logistic Regression"
   ]
  },
  {
   "cell_type": "code",
   "execution_count": 6,
   "id": "302e8e2a-022f-4974-8a3d-1128a185bb0a",
   "metadata": {},
   "outputs": [],
   "source": [
    "ann = tf.keras.models.Sequential()"
   ]
  },
  {
   "cell_type": "markdown",
   "id": "9c42391a-230e-4bc9-b213-c5696c8f8c3c",
   "metadata": {},
   "source": [
    "Adding input layer and first hidden layer"
   ]
  },
  {
   "cell_type": "code",
   "execution_count": 7,
   "id": "94ab12b6-dffa-4f1e-895c-f147da61e0a6",
   "metadata": {},
   "outputs": [],
   "source": [
    "ann.add(tf.keras.layers.Dense(units=6, activation=\"relu\"))"
   ]
  },
  {
   "cell_type": "markdown",
   "id": "959bb1bf-de4b-49db-b933-03b5c7281a99",
   "metadata": {},
   "source": [
    "Adding second layer, same as first layer"
   ]
  },
  {
   "cell_type": "code",
   "execution_count": 8,
   "id": "430dcb5f-c04a-4e2d-80e8-2281ce2e73df",
   "metadata": {},
   "outputs": [],
   "source": [
    "ann.add(tf.keras.layers.Dense(units=6, activation=\"relu\"))"
   ]
  },
  {
   "cell_type": "markdown",
   "id": "7231571a-be33-4e6f-8438-f72c60075675",
   "metadata": {},
   "source": [
    "Adding output layer"
   ]
  },
  {
   "cell_type": "code",
   "execution_count": 10,
   "id": "00d80a14-9f3c-4516-a856-ae020b80d37f",
   "metadata": {},
   "outputs": [],
   "source": [
    "ann.add(tf.keras.layers.Dense(units=1))"
   ]
  },
  {
   "cell_type": "markdown",
   "id": "7ffe6b0d-d050-40e1-8cf1-2343ac10eb9f",
   "metadata": {},
   "source": [
    "Compiling the ANN"
   ]
  },
  {
   "cell_type": "code",
   "execution_count": 11,
   "id": "83814ba0-84aa-439a-ac0a-854d9a795297",
   "metadata": {},
   "outputs": [],
   "source": [
    "ann.compile(optimizer=\"adam\", loss=\"mean_squared_error\")"
   ]
  },
  {
   "cell_type": "markdown",
   "id": "3c42c035-fa4e-425a-a3cb-b7fa97f656a1",
   "metadata": {},
   "source": [
    "Training the ANN model using the training data split"
   ]
  },
  {
   "cell_type": "code",
   "execution_count": 12,
   "id": "4f2f072a-d04c-43be-9bd3-eaa8b6f06a02",
   "metadata": {
    "scrolled": true,
    "tags": []
   },
   "outputs": [
    {
     "name": "stdout",
     "output_type": "stream",
     "text": [
      "Epoch 1/100\n",
      "240/240 [==============================] - 1s 720us/step - loss: 5552.6094\n",
      "Epoch 2/100\n",
      "240/240 [==============================] - 0s 723us/step - loss: 428.6366\n",
      "Epoch 3/100\n",
      "240/240 [==============================] - 0s 651us/step - loss: 375.6204\n",
      "Epoch 4/100\n",
      "240/240 [==============================] - 0s 711us/step - loss: 318.0105\n",
      "Epoch 5/100\n",
      "240/240 [==============================] - 0s 694us/step - loss: 262.6497\n",
      "Epoch 6/100\n",
      "240/240 [==============================] - 0s 695us/step - loss: 210.8867\n",
      "Epoch 7/100\n",
      "240/240 [==============================] - 0s 693us/step - loss: 65.7879\n",
      "Epoch 8/100\n",
      "240/240 [==============================] - 0s 647us/step - loss: 49.7142\n",
      "Epoch 9/100\n",
      "240/240 [==============================] - 0s 617us/step - loss: 46.5386\n",
      "Epoch 10/100\n",
      "240/240 [==============================] - 0s 634us/step - loss: 44.2595\n",
      "Epoch 11/100\n",
      "240/240 [==============================] - 0s 693us/step - loss: 41.7309\n",
      "Epoch 12/100\n",
      "240/240 [==============================] - 0s 697us/step - loss: 39.8057\n",
      "Epoch 13/100\n",
      "240/240 [==============================] - 0s 831us/step - loss: 39.3355\n",
      "Epoch 14/100\n",
      "240/240 [==============================] - 0s 607us/step - loss: 36.9275\n",
      "Epoch 15/100\n",
      "240/240 [==============================] - 0s 591us/step - loss: 36.2049\n",
      "Epoch 16/100\n",
      "240/240 [==============================] - 0s 604us/step - loss: 35.1120\n",
      "Epoch 17/100\n",
      "240/240 [==============================] - 0s 607us/step - loss: 33.6904\n",
      "Epoch 18/100\n",
      "240/240 [==============================] - 0s 609us/step - loss: 33.6367\n",
      "Epoch 19/100\n",
      "240/240 [==============================] - 0s 613us/step - loss: 32.7688\n",
      "Epoch 20/100\n",
      "240/240 [==============================] - 0s 605us/step - loss: 32.4206\n",
      "Epoch 21/100\n",
      "240/240 [==============================] - 0s 709us/step - loss: 31.7947\n",
      "Epoch 22/100\n",
      "240/240 [==============================] - 0s 693us/step - loss: 32.2206\n",
      "Epoch 23/100\n",
      "240/240 [==============================] - 0s 595us/step - loss: 30.5918\n",
      "Epoch 24/100\n",
      "240/240 [==============================] - 0s 593us/step - loss: 30.0526\n",
      "Epoch 25/100\n",
      "240/240 [==============================] - 0s 597us/step - loss: 29.9661\n",
      "Epoch 26/100\n",
      "240/240 [==============================] - 0s 617us/step - loss: 29.8866\n",
      "Epoch 27/100\n",
      "240/240 [==============================] - 0s 602us/step - loss: 29.7628\n",
      "Epoch 28/100\n",
      "240/240 [==============================] - 0s 601us/step - loss: 29.5550\n",
      "Epoch 29/100\n",
      "240/240 [==============================] - 0s 613us/step - loss: 30.2464\n",
      "Epoch 30/100\n",
      "240/240 [==============================] - 0s 613us/step - loss: 28.1372\n",
      "Epoch 31/100\n",
      "240/240 [==============================] - 0s 605us/step - loss: 28.8644\n",
      "Epoch 32/100\n",
      "240/240 [==============================] - 0s 618us/step - loss: 28.8287\n",
      "Epoch 33/100\n",
      "240/240 [==============================] - 0s 614us/step - loss: 27.7129\n",
      "Epoch 34/100\n",
      "240/240 [==============================] - 0s 627us/step - loss: 28.2525\n",
      "Epoch 35/100\n",
      "240/240 [==============================] - 0s 783us/step - loss: 27.7102\n",
      "Epoch 36/100\n",
      "240/240 [==============================] - 0s 701us/step - loss: 28.4033\n",
      "Epoch 37/100\n",
      "240/240 [==============================] - 0s 679us/step - loss: 27.9399\n",
      "Epoch 38/100\n",
      "240/240 [==============================] - 0s 699us/step - loss: 27.9769\n",
      "Epoch 39/100\n",
      "240/240 [==============================] - 0s 618us/step - loss: 29.1005\n",
      "Epoch 40/100\n",
      "240/240 [==============================] - 0s 597us/step - loss: 28.1849\n",
      "Epoch 41/100\n",
      "240/240 [==============================] - 0s 697us/step - loss: 27.1524\n",
      "Epoch 42/100\n",
      "240/240 [==============================] - 0s 701us/step - loss: 28.3304\n",
      "Epoch 43/100\n",
      "240/240 [==============================] - 0s 705us/step - loss: 27.7882\n",
      "Epoch 44/100\n",
      "240/240 [==============================] - 0s 671us/step - loss: 27.5447\n",
      "Epoch 45/100\n",
      "240/240 [==============================] - ETA: 0s - loss: 28.21 - 0s 745us/step - loss: 27.8051\n",
      "Epoch 46/100\n",
      "240/240 [==============================] - 0s 632us/step - loss: 27.6354\n",
      "Epoch 47/100\n",
      "240/240 [==============================] - 0s 638us/step - loss: 27.2779\n",
      "Epoch 48/100\n",
      "240/240 [==============================] - 0s 609us/step - loss: 27.8359\n",
      "Epoch 49/100\n",
      "240/240 [==============================] - 0s 630us/step - loss: 27.4023\n",
      "Epoch 50/100\n",
      "240/240 [==============================] - 0s 618us/step - loss: 27.2760\n",
      "Epoch 51/100\n",
      "240/240 [==============================] - 0s 651us/step - loss: 27.5678\n",
      "Epoch 52/100\n",
      "240/240 [==============================] - 0s 705us/step - loss: 27.4263\n",
      "Epoch 53/100\n",
      "240/240 [==============================] - 0s 743us/step - loss: 27.2839\n",
      "Epoch 54/100\n",
      "240/240 [==============================] - 0s 734us/step - loss: 27.3628\n",
      "Epoch 55/100\n",
      "240/240 [==============================] - 0s 667us/step - loss: 27.9091\n",
      "Epoch 56/100\n",
      "240/240 [==============================] - 0s 593us/step - loss: 27.1725\n",
      "Epoch 57/100\n",
      "240/240 [==============================] - 0s 739us/step - loss: 27.3578\n",
      "Epoch 58/100\n",
      "240/240 [==============================] - 0s 597us/step - loss: 27.6268\n",
      "Epoch 59/100\n",
      "240/240 [==============================] - 0s 622us/step - loss: 28.2237\n",
      "Epoch 60/100\n",
      "240/240 [==============================] - 0s 613us/step - loss: 27.8409\n",
      "Epoch 61/100\n",
      "240/240 [==============================] - 0s 657us/step - loss: 28.6014\n",
      "Epoch 62/100\n",
      "240/240 [==============================] - 0s 607us/step - loss: 26.9547\n",
      "Epoch 63/100\n",
      "240/240 [==============================] - 0s 730us/step - loss: 26.8572\n",
      "Epoch 64/100\n",
      "240/240 [==============================] - 0s 699us/step - loss: 27.0977\n",
      "Epoch 65/100\n",
      "240/240 [==============================] - 0s 630us/step - loss: 26.9738\n",
      "Epoch 66/100\n",
      "240/240 [==============================] - 0s 609us/step - loss: 27.1780\n",
      "Epoch 67/100\n",
      "240/240 [==============================] - 0s 689us/step - loss: 27.1976\n",
      "Epoch 68/100\n",
      "240/240 [==============================] - 0s 651us/step - loss: 26.8775\n",
      "Epoch 69/100\n",
      "240/240 [==============================] - 0s 689us/step - loss: 28.0034\n",
      "Epoch 70/100\n",
      "240/240 [==============================] - 0s 638us/step - loss: 27.4698\n",
      "Epoch 71/100\n",
      "240/240 [==============================] - 0s 726us/step - loss: 26.7044\n",
      "Epoch 72/100\n",
      "240/240 [==============================] - 0s 667us/step - loss: 27.3721\n",
      "Epoch 73/100\n",
      "240/240 [==============================] - 0s 651us/step - loss: 27.4617\n",
      "Epoch 74/100\n",
      "240/240 [==============================] - 0s 672us/step - loss: 27.8191\n",
      "Epoch 75/100\n",
      "240/240 [==============================] - 0s 630us/step - loss: 27.0676\n",
      "Epoch 76/100\n",
      "240/240 [==============================] - 0s 730us/step - loss: 27.6075\n",
      "Epoch 77/100\n",
      "240/240 [==============================] - 0s 630us/step - loss: 27.4734\n",
      "Epoch 78/100\n",
      "240/240 [==============================] - 0s 718us/step - loss: 27.2910\n",
      "Epoch 79/100\n",
      "240/240 [==============================] - 0s 651us/step - loss: 27.39390s - loss: 27.\n",
      "Epoch 80/100\n",
      "240/240 [==============================] - 0s 681us/step - loss: 27.0381\n",
      "Epoch 81/100\n",
      "240/240 [==============================] - 0s 661us/step - loss: 26.8704\n",
      "Epoch 82/100\n",
      "240/240 [==============================] - 0s 634us/step - loss: 27.0148\n",
      "Epoch 83/100\n",
      "240/240 [==============================] - 0s 679us/step - loss: 27.3903\n",
      "Epoch 84/100\n",
      "240/240 [==============================] - 0s 630us/step - loss: 27.7829\n",
      "Epoch 85/100\n",
      "240/240 [==============================] - 0s 680us/step - loss: 27.6536\n",
      "Epoch 86/100\n",
      "240/240 [==============================] - 0s 593us/step - loss: 28.1592\n",
      "Epoch 87/100\n",
      "240/240 [==============================] - 0s 689us/step - loss: 28.0647\n",
      "Epoch 88/100\n",
      "240/240 [==============================] - 0s 626us/step - loss: 27.3081\n",
      "Epoch 89/100\n",
      "240/240 [==============================] - 0s 643us/step - loss: 27.1221\n",
      "Epoch 90/100\n",
      "240/240 [==============================] - 0s 693us/step - loss: 26.7965\n",
      "Epoch 91/100\n",
      "240/240 [==============================] - 0s 643us/step - loss: 28.2545\n",
      "Epoch 92/100\n",
      "240/240 [==============================] - 0s 786us/step - loss: 27.5304\n",
      "Epoch 93/100\n",
      "240/240 [==============================] - 0s 630us/step - loss: 26.8108\n",
      "Epoch 94/100\n",
      "240/240 [==============================] - 0s 652us/step - loss: 27.5429\n",
      "Epoch 95/100\n",
      "240/240 [==============================] - 0s 634us/step - loss: 27.6757\n",
      "Epoch 96/100\n",
      "240/240 [==============================] - 0s 684us/step - loss: 27.6071\n",
      "Epoch 97/100\n",
      "240/240 [==============================] - 0s 680us/step - loss: 26.7598\n",
      "Epoch 98/100\n",
      "240/240 [==============================] - 0s 634us/step - loss: 27.1851\n",
      "Epoch 99/100\n",
      "240/240 [==============================] - 0s 663us/step - loss: 27.32600s - loss: 26.\n",
      "Epoch 100/100\n",
      "240/240 [==============================] - 0s 626us/step - loss: 27.2113\n"
     ]
    },
    {
     "data": {
      "text/plain": [
       "<keras.callbacks.History at 0x20709d04048>"
      ]
     },
     "execution_count": 12,
     "metadata": {},
     "output_type": "execute_result"
    }
   ],
   "source": [
    "ann.fit(x_train, y_train, batch_size=32, epochs=100)"
   ]
  },
  {
   "cell_type": "markdown",
   "id": "9d54a454-9852-4f09-a242-6d9e37a56973",
   "metadata": {},
   "source": [
    "Predicting the results using the test data split"
   ]
  },
  {
   "cell_type": "code",
   "execution_count": 14,
   "id": "cbf45703-50f5-4b2b-932e-ffa0b6de8867",
   "metadata": {},
   "outputs": [
    {
     "data": {
      "text/plain": [
       "array([[432.36, 431.23],\n",
       "       [463.67, 460.01],\n",
       "       [467.25, 461.14],\n",
       "       ...,\n",
       "       [474.45, 473.26],\n",
       "       [441.1 , 438.  ],\n",
       "       [460.41, 463.28]])"
      ]
     },
     "execution_count": 14,
     "metadata": {},
     "output_type": "execute_result"
    }
   ],
   "source": [
    "y_pred = ann.predict(x_test)\n",
    "np.set_printoptions(precision=2)\n",
    "np.concatenate((y_pred.reshape(len(y_pred), 1), y_test.reshape(len(y_test), 1)), 1)\n"
   ]
  },
  {
   "cell_type": "code",
   "execution_count": null,
   "id": "42287391-ca9d-46df-8616-539a70a384f9",
   "metadata": {},
   "outputs": [],
   "source": []
  }
 ],
 "metadata": {
  "kernelspec": {
   "display_name": "py37gpu",
   "language": "python",
   "name": "myenv"
  },
  "language_info": {
   "codemirror_mode": {
    "name": "ipython",
    "version": 3
   },
   "file_extension": ".py",
   "mimetype": "text/x-python",
   "name": "python",
   "nbconvert_exporter": "python",
   "pygments_lexer": "ipython3",
   "version": "3.7.11"
  }
 },
 "nbformat": 4,
 "nbformat_minor": 5
}
